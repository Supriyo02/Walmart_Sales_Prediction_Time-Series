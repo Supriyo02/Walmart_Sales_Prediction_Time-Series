{
 "cells": [
  {
   "cell_type": "markdown",
   "id": "383e833c",
   "metadata": {},
   "source": [
    "# Future Sales Prediction of a Store by Time-Series Forecasting"
   ]
  },
  {
   "cell_type": "code",
   "execution_count": 3,
   "id": "9178864d",
   "metadata": {},
   "outputs": [],
   "source": [
    "import numpy as np\n",
    "import pandas as pd\n",
    "from matplotlib import pyplot as plt\n",
    "%matplotlib inline"
   ]
  },
  {
   "cell_type": "code",
   "execution_count": 1,
   "id": "8173b1c2",
   "metadata": {},
   "outputs": [],
   "source": [
    "#Initialising the dateperse format to Convert the string to datetime object\n",
    "dateparse = lambda x: pd.datetime.strptime(x, '%d-%m-%Y')"
   ]
  },
  {
   "cell_type": "code",
   "execution_count": 10,
   "id": "b87403a3",
   "metadata": {
    "scrolled": true
   },
   "outputs": [
    {
     "name": "stderr",
     "output_type": "stream",
     "text": [
      "C:\\Users\\Supriyo\\AppData\\Local\\Temp\\ipykernel_2724\\369464147.py:1: FutureWarning: The pandas.datetime class is deprecated and will be removed from pandas in a future version. Import from datetime module instead.\n",
      "  dateparse = lambda x: pd.datetime.strptime(x, '%d-%m-%Y')\n"
     ]
    },
    {
     "data": {
      "text/html": [
       "<div>\n",
       "<style scoped>\n",
       "    .dataframe tbody tr th:only-of-type {\n",
       "        vertical-align: middle;\n",
       "    }\n",
       "\n",
       "    .dataframe tbody tr th {\n",
       "        vertical-align: top;\n",
       "    }\n",
       "\n",
       "    .dataframe thead th {\n",
       "        text-align: right;\n",
       "    }\n",
       "</style>\n",
       "<table border=\"1\" class=\"dataframe\">\n",
       "  <thead>\n",
       "    <tr style=\"text-align: right;\">\n",
       "      <th></th>\n",
       "      <th>Store</th>\n",
       "      <th>Date</th>\n",
       "      <th>Weekly_Sales</th>\n",
       "      <th>Holiday_Flag</th>\n",
       "      <th>Temperature</th>\n",
       "      <th>Fuel_Price</th>\n",
       "      <th>CPI</th>\n",
       "      <th>Unemployment</th>\n",
       "    </tr>\n",
       "  </thead>\n",
       "  <tbody>\n",
       "    <tr>\n",
       "      <th>0</th>\n",
       "      <td>1</td>\n",
       "      <td>2010-02-05</td>\n",
       "      <td>1643690.90</td>\n",
       "      <td>0</td>\n",
       "      <td>42.31</td>\n",
       "      <td>2.572</td>\n",
       "      <td>211.096358</td>\n",
       "      <td>8.106</td>\n",
       "    </tr>\n",
       "    <tr>\n",
       "      <th>1</th>\n",
       "      <td>1</td>\n",
       "      <td>2010-02-12</td>\n",
       "      <td>1641957.44</td>\n",
       "      <td>1</td>\n",
       "      <td>38.51</td>\n",
       "      <td>2.548</td>\n",
       "      <td>211.242170</td>\n",
       "      <td>8.106</td>\n",
       "    </tr>\n",
       "    <tr>\n",
       "      <th>2</th>\n",
       "      <td>1</td>\n",
       "      <td>2010-02-19</td>\n",
       "      <td>1611968.17</td>\n",
       "      <td>0</td>\n",
       "      <td>39.93</td>\n",
       "      <td>2.514</td>\n",
       "      <td>211.289143</td>\n",
       "      <td>8.106</td>\n",
       "    </tr>\n",
       "    <tr>\n",
       "      <th>3</th>\n",
       "      <td>1</td>\n",
       "      <td>2010-02-26</td>\n",
       "      <td>1409727.59</td>\n",
       "      <td>0</td>\n",
       "      <td>46.63</td>\n",
       "      <td>2.561</td>\n",
       "      <td>211.319643</td>\n",
       "      <td>8.106</td>\n",
       "    </tr>\n",
       "    <tr>\n",
       "      <th>4</th>\n",
       "      <td>1</td>\n",
       "      <td>2010-03-05</td>\n",
       "      <td>1554806.68</td>\n",
       "      <td>0</td>\n",
       "      <td>46.50</td>\n",
       "      <td>2.625</td>\n",
       "      <td>211.350143</td>\n",
       "      <td>8.106</td>\n",
       "    </tr>\n",
       "    <tr>\n",
       "      <th>...</th>\n",
       "      <td>...</td>\n",
       "      <td>...</td>\n",
       "      <td>...</td>\n",
       "      <td>...</td>\n",
       "      <td>...</td>\n",
       "      <td>...</td>\n",
       "      <td>...</td>\n",
       "      <td>...</td>\n",
       "    </tr>\n",
       "    <tr>\n",
       "      <th>137</th>\n",
       "      <td>1</td>\n",
       "      <td>2012-09-21</td>\n",
       "      <td>1506126.06</td>\n",
       "      <td>0</td>\n",
       "      <td>69.87</td>\n",
       "      <td>3.721</td>\n",
       "      <td>222.781839</td>\n",
       "      <td>6.908</td>\n",
       "    </tr>\n",
       "    <tr>\n",
       "      <th>138</th>\n",
       "      <td>1</td>\n",
       "      <td>2012-09-28</td>\n",
       "      <td>1437059.26</td>\n",
       "      <td>0</td>\n",
       "      <td>76.08</td>\n",
       "      <td>3.666</td>\n",
       "      <td>222.981658</td>\n",
       "      <td>6.908</td>\n",
       "    </tr>\n",
       "    <tr>\n",
       "      <th>139</th>\n",
       "      <td>1</td>\n",
       "      <td>2012-10-05</td>\n",
       "      <td>1670785.97</td>\n",
       "      <td>0</td>\n",
       "      <td>68.55</td>\n",
       "      <td>3.617</td>\n",
       "      <td>223.181477</td>\n",
       "      <td>6.573</td>\n",
       "    </tr>\n",
       "    <tr>\n",
       "      <th>140</th>\n",
       "      <td>1</td>\n",
       "      <td>2012-10-12</td>\n",
       "      <td>1573072.81</td>\n",
       "      <td>0</td>\n",
       "      <td>62.99</td>\n",
       "      <td>3.601</td>\n",
       "      <td>223.381296</td>\n",
       "      <td>6.573</td>\n",
       "    </tr>\n",
       "    <tr>\n",
       "      <th>141</th>\n",
       "      <td>1</td>\n",
       "      <td>2012-10-19</td>\n",
       "      <td>1508068.77</td>\n",
       "      <td>0</td>\n",
       "      <td>67.97</td>\n",
       "      <td>3.594</td>\n",
       "      <td>223.425723</td>\n",
       "      <td>6.573</td>\n",
       "    </tr>\n",
       "  </tbody>\n",
       "</table>\n",
       "<p>142 rows × 8 columns</p>\n",
       "</div>"
      ],
      "text/plain": [
       "     Store       Date  Weekly_Sales  Holiday_Flag  Temperature  Fuel_Price  \\\n",
       "0        1 2010-02-05    1643690.90             0        42.31       2.572   \n",
       "1        1 2010-02-12    1641957.44             1        38.51       2.548   \n",
       "2        1 2010-02-19    1611968.17             0        39.93       2.514   \n",
       "3        1 2010-02-26    1409727.59             0        46.63       2.561   \n",
       "4        1 2010-03-05    1554806.68             0        46.50       2.625   \n",
       "..     ...        ...           ...           ...          ...         ...   \n",
       "137      1 2012-09-21    1506126.06             0        69.87       3.721   \n",
       "138      1 2012-09-28    1437059.26             0        76.08       3.666   \n",
       "139      1 2012-10-05    1670785.97             0        68.55       3.617   \n",
       "140      1 2012-10-12    1573072.81             0        62.99       3.601   \n",
       "141      1 2012-10-19    1508068.77             0        67.97       3.594   \n",
       "\n",
       "            CPI  Unemployment  \n",
       "0    211.096358         8.106  \n",
       "1    211.242170         8.106  \n",
       "2    211.289143         8.106  \n",
       "3    211.319643         8.106  \n",
       "4    211.350143         8.106  \n",
       "..          ...           ...  \n",
       "137  222.781839         6.908  \n",
       "138  222.981658         6.908  \n",
       "139  223.181477         6.573  \n",
       "140  223.381296         6.573  \n",
       "141  223.425723         6.573  \n",
       "\n",
       "[142 rows x 8 columns]"
      ]
     },
     "execution_count": 10,
     "metadata": {},
     "output_type": "execute_result"
    }
   ],
   "source": [
    "df1 = pd.read_csv('StoreData.csv',parse_dates=[1],date_parser=dateparse)\n",
    "df1"
   ]
  },
  {
   "cell_type": "code",
   "execution_count": 11,
   "id": "09fc6bd9",
   "metadata": {
    "scrolled": true
   },
   "outputs": [],
   "source": [
    "#df1['date']=pd.to_datetime({'year':df1['Year'],'month':df1['Month'],'day':df1['Day']})\n",
    "df1['Date'].freq='W'"
   ]
  },
  {
   "cell_type": "code",
   "execution_count": 12,
   "id": "4b50a423",
   "metadata": {},
   "outputs": [
    {
     "data": {
      "text/plain": [
       "'W'"
      ]
     },
     "execution_count": 12,
     "metadata": {},
     "output_type": "execute_result"
    }
   ],
   "source": [
    "df1['Date'].freq"
   ]
  },
  {
   "cell_type": "code",
   "execution_count": 13,
   "id": "84a1a2ea",
   "metadata": {},
   "outputs": [],
   "source": [
    "# Taking Only the necessary variables from the data to train the model\n",
    "df2=df1[['Date','Weekly_Sales','Holiday_Flag','Temperature','Fuel_Price','CPI','Unemployment']]"
   ]
  },
  {
   "cell_type": "code",
   "execution_count": 14,
   "id": "fcff7ccd",
   "metadata": {
    "scrolled": true
   },
   "outputs": [],
   "source": [
    "#Setting index of the dataframe as datetime\n",
    "df2.index=df2['Date']"
   ]
  },
  {
   "cell_type": "code",
   "execution_count": 15,
   "id": "bd6958f3",
   "metadata": {},
   "outputs": [],
   "source": [
    "#It will require while testing our model with the predicted values. You will understand it later\n",
    "pretest=df2[120:]"
   ]
  },
  {
   "cell_type": "code",
   "execution_count": 16,
   "id": "b305130b",
   "metadata": {
    "scrolled": true
   },
   "outputs": [
    {
     "name": "stderr",
     "output_type": "stream",
     "text": [
      "C:\\Users\\Supriyo\\AppData\\Local\\Temp\\ipykernel_2724\\3631162637.py:2: SettingWithCopyWarning: \n",
      "A value is trying to be set on a copy of a slice from a DataFrame.\n",
      "Try using .loc[row_indexer,col_indexer] = value instead\n",
      "\n",
      "See the caveats in the documentation: https://pandas.pydata.org/pandas-docs/stable/user_guide/indexing.html#returning-a-view-versus-a-copy\n",
      "  df2['Weekly_Sales']=df2['Weekly_Sales']/1000\n",
      "C:\\Users\\Supriyo\\AppData\\Local\\Temp\\ipykernel_2724\\3631162637.py:3: SettingWithCopyWarning: \n",
      "A value is trying to be set on a copy of a slice from a DataFrame.\n",
      "Try using .loc[row_indexer,col_indexer] = value instead\n",
      "\n",
      "See the caveats in the documentation: https://pandas.pydata.org/pandas-docs/stable/user_guide/indexing.html#returning-a-view-versus-a-copy\n",
      "  df2['Fuel_Price']=df2['Fuel_Price']*10\n",
      "C:\\Users\\Supriyo\\AppData\\Local\\Temp\\ipykernel_2724\\3631162637.py:4: SettingWithCopyWarning: \n",
      "A value is trying to be set on a copy of a slice from a DataFrame.\n",
      "Try using .loc[row_indexer,col_indexer] = value instead\n",
      "\n",
      "See the caveats in the documentation: https://pandas.pydata.org/pandas-docs/stable/user_guide/indexing.html#returning-a-view-versus-a-copy\n",
      "  df2['Unemployment']=df2['Unemployment']*10\n"
     ]
    }
   ],
   "source": [
    "# As the feature values are too large, it can overfit the model. So to generalize the input data, and reduce the complexity of the model, the steps are done\n",
    "df2['Weekly_Sales']=df2['Weekly_Sales']/1000\n",
    "df2['Fuel_Price']=df2['Fuel_Price']*10\n",
    "df2['Unemployment']=df2['Unemployment']*10"
   ]
  },
  {
   "cell_type": "code",
   "execution_count": 17,
   "id": "80196d22",
   "metadata": {},
   "outputs": [
    {
     "name": "stderr",
     "output_type": "stream",
     "text": [
      "C:\\Users\\Supriyo\\AppData\\Local\\Temp\\ipykernel_2724\\1107023909.py:2: SettingWithCopyWarning: \n",
      "A value is trying to be set on a copy of a slice from a DataFrame.\n",
      "Try using .loc[row_indexer,col_indexer] = value instead\n",
      "\n",
      "See the caveats in the documentation: https://pandas.pydata.org/pandas-docs/stable/user_guide/indexing.html#returning-a-view-versus-a-copy\n",
      "  df2[['Weekly_Sales','Temperature','Fuel_Price','CPI','Unemployment']] = df2[['Weekly_Sales','Temperature','Fuel_Price','CPI','Unemployment']].astype('int')\n"
     ]
    }
   ],
   "source": [
    "#Converting the float values to integers, to train the model accordingly\n",
    "df2[['Weekly_Sales','Temperature','Fuel_Price','CPI','Unemployment']] = df2[['Weekly_Sales','Temperature','Fuel_Price','CPI','Unemployment']].astype('int')"
   ]
  },
  {
   "cell_type": "code",
   "execution_count": 18,
   "id": "d7461547",
   "metadata": {},
   "outputs": [
    {
     "data": {
      "text/html": [
       "<div>\n",
       "<style scoped>\n",
       "    .dataframe tbody tr th:only-of-type {\n",
       "        vertical-align: middle;\n",
       "    }\n",
       "\n",
       "    .dataframe tbody tr th {\n",
       "        vertical-align: top;\n",
       "    }\n",
       "\n",
       "    .dataframe thead th {\n",
       "        text-align: right;\n",
       "    }\n",
       "</style>\n",
       "<table border=\"1\" class=\"dataframe\">\n",
       "  <thead>\n",
       "    <tr style=\"text-align: right;\">\n",
       "      <th></th>\n",
       "      <th>Date</th>\n",
       "      <th>Weekly_Sales</th>\n",
       "      <th>Holiday_Flag</th>\n",
       "      <th>Temperature</th>\n",
       "      <th>Fuel_Price</th>\n",
       "      <th>CPI</th>\n",
       "      <th>Unemployment</th>\n",
       "    </tr>\n",
       "    <tr>\n",
       "      <th>Date</th>\n",
       "      <th></th>\n",
       "      <th></th>\n",
       "      <th></th>\n",
       "      <th></th>\n",
       "      <th></th>\n",
       "      <th></th>\n",
       "      <th></th>\n",
       "    </tr>\n",
       "  </thead>\n",
       "  <tbody>\n",
       "    <tr>\n",
       "      <th>2010-02-05</th>\n",
       "      <td>2010-02-05</td>\n",
       "      <td>1643</td>\n",
       "      <td>0</td>\n",
       "      <td>42</td>\n",
       "      <td>25</td>\n",
       "      <td>211</td>\n",
       "      <td>81</td>\n",
       "    </tr>\n",
       "    <tr>\n",
       "      <th>2010-02-12</th>\n",
       "      <td>2010-02-12</td>\n",
       "      <td>1641</td>\n",
       "      <td>1</td>\n",
       "      <td>38</td>\n",
       "      <td>25</td>\n",
       "      <td>211</td>\n",
       "      <td>81</td>\n",
       "    </tr>\n",
       "    <tr>\n",
       "      <th>2010-02-19</th>\n",
       "      <td>2010-02-19</td>\n",
       "      <td>1611</td>\n",
       "      <td>0</td>\n",
       "      <td>39</td>\n",
       "      <td>25</td>\n",
       "      <td>211</td>\n",
       "      <td>81</td>\n",
       "    </tr>\n",
       "    <tr>\n",
       "      <th>2010-02-26</th>\n",
       "      <td>2010-02-26</td>\n",
       "      <td>1409</td>\n",
       "      <td>0</td>\n",
       "      <td>46</td>\n",
       "      <td>25</td>\n",
       "      <td>211</td>\n",
       "      <td>81</td>\n",
       "    </tr>\n",
       "    <tr>\n",
       "      <th>2010-03-05</th>\n",
       "      <td>2010-03-05</td>\n",
       "      <td>1554</td>\n",
       "      <td>0</td>\n",
       "      <td>46</td>\n",
       "      <td>26</td>\n",
       "      <td>211</td>\n",
       "      <td>81</td>\n",
       "    </tr>\n",
       "    <tr>\n",
       "      <th>...</th>\n",
       "      <td>...</td>\n",
       "      <td>...</td>\n",
       "      <td>...</td>\n",
       "      <td>...</td>\n",
       "      <td>...</td>\n",
       "      <td>...</td>\n",
       "      <td>...</td>\n",
       "    </tr>\n",
       "    <tr>\n",
       "      <th>2012-09-21</th>\n",
       "      <td>2012-09-21</td>\n",
       "      <td>1506</td>\n",
       "      <td>0</td>\n",
       "      <td>69</td>\n",
       "      <td>37</td>\n",
       "      <td>222</td>\n",
       "      <td>69</td>\n",
       "    </tr>\n",
       "    <tr>\n",
       "      <th>2012-09-28</th>\n",
       "      <td>2012-09-28</td>\n",
       "      <td>1437</td>\n",
       "      <td>0</td>\n",
       "      <td>76</td>\n",
       "      <td>36</td>\n",
       "      <td>222</td>\n",
       "      <td>69</td>\n",
       "    </tr>\n",
       "    <tr>\n",
       "      <th>2012-10-05</th>\n",
       "      <td>2012-10-05</td>\n",
       "      <td>1670</td>\n",
       "      <td>0</td>\n",
       "      <td>68</td>\n",
       "      <td>36</td>\n",
       "      <td>223</td>\n",
       "      <td>65</td>\n",
       "    </tr>\n",
       "    <tr>\n",
       "      <th>2012-10-12</th>\n",
       "      <td>2012-10-12</td>\n",
       "      <td>1573</td>\n",
       "      <td>0</td>\n",
       "      <td>62</td>\n",
       "      <td>36</td>\n",
       "      <td>223</td>\n",
       "      <td>65</td>\n",
       "    </tr>\n",
       "    <tr>\n",
       "      <th>2012-10-19</th>\n",
       "      <td>2012-10-19</td>\n",
       "      <td>1508</td>\n",
       "      <td>0</td>\n",
       "      <td>67</td>\n",
       "      <td>35</td>\n",
       "      <td>223</td>\n",
       "      <td>65</td>\n",
       "    </tr>\n",
       "  </tbody>\n",
       "</table>\n",
       "<p>142 rows × 7 columns</p>\n",
       "</div>"
      ],
      "text/plain": [
       "                 Date  Weekly_Sales  Holiday_Flag  Temperature  Fuel_Price  \\\n",
       "Date                                                                         \n",
       "2010-02-05 2010-02-05          1643             0           42          25   \n",
       "2010-02-12 2010-02-12          1641             1           38          25   \n",
       "2010-02-19 2010-02-19          1611             0           39          25   \n",
       "2010-02-26 2010-02-26          1409             0           46          25   \n",
       "2010-03-05 2010-03-05          1554             0           46          26   \n",
       "...               ...           ...           ...          ...         ...   \n",
       "2012-09-21 2012-09-21          1506             0           69          37   \n",
       "2012-09-28 2012-09-28          1437             0           76          36   \n",
       "2012-10-05 2012-10-05          1670             0           68          36   \n",
       "2012-10-12 2012-10-12          1573             0           62          36   \n",
       "2012-10-19 2012-10-19          1508             0           67          35   \n",
       "\n",
       "            CPI  Unemployment  \n",
       "Date                           \n",
       "2010-02-05  211            81  \n",
       "2010-02-12  211            81  \n",
       "2010-02-19  211            81  \n",
       "2010-02-26  211            81  \n",
       "2010-03-05  211            81  \n",
       "...         ...           ...  \n",
       "2012-09-21  222            69  \n",
       "2012-09-28  222            69  \n",
       "2012-10-05  223            65  \n",
       "2012-10-12  223            65  \n",
       "2012-10-19  223            65  \n",
       "\n",
       "[142 rows x 7 columns]"
      ]
     },
     "execution_count": 18,
     "metadata": {},
     "output_type": "execute_result"
    }
   ],
   "source": [
    "df2"
   ]
  },
  {
   "cell_type": "code",
   "execution_count": 19,
   "id": "4ad4ad1b",
   "metadata": {},
   "outputs": [
    {
     "data": {
      "text/plain": [
       "Date            False\n",
       "Weekly_Sales    False\n",
       "Holiday_Flag    False\n",
       "Temperature     False\n",
       "Fuel_Price      False\n",
       "CPI             False\n",
       "Unemployment    False\n",
       "dtype: bool"
      ]
     },
     "execution_count": 19,
     "metadata": {},
     "output_type": "execute_result"
    }
   ],
   "source": [
    "# Checking if there's any null values in the dataset\n",
    "df2.isnull().any()"
   ]
  },
  {
   "cell_type": "code",
   "execution_count": 20,
   "id": "5d821519",
   "metadata": {},
   "outputs": [
    {
     "data": {
      "text/plain": [
       "<Axes: xlabel='Date'>"
      ]
     },
     "execution_count": 20,
     "metadata": {},
     "output_type": "execute_result"
    },
    {
     "data": {
      "image/png": "[encoded data removed]",
      "text/plain": [
       "<Figure size 640x480 with 1 Axes>"
      ]
     },
     "metadata": {},
     "output_type": "display_data"
    }
   ],
   "source": [
    "#Plot the target variable i.e. Weekly Sales values \n",
    "df2['Weekly_Sales'].plot()"
   ]
  },
  {
   "cell_type": "code",
   "execution_count": 21,
   "id": "09dc2c26",
   "metadata": {},
   "outputs": [
    {
     "data": {
      "image/png": "[encoded data removed]",
      "text/plain": [
       "<Figure size 640x480 with 4 Axes>"
      ]
     },
     "metadata": {},
     "output_type": "display_data"
    }
   ],
   "source": [
    "# Using seasonal decompose to see if there's any trend, seasonality, trend in residuals, and to understand the dataset\n",
    "from statsmodels.tsa.seasonal import seasonal_decompose\n",
    "result=seasonal_decompose(df2['Weekly_Sales'],model='add')\n",
    "result.plot();"
   ]
  },
  {
   "cell_type": "code",
   "execution_count": 22,
   "id": "398cc86d",
   "metadata": {},
   "outputs": [
    {
     "data": {
      "image/png": "[encoded data removed]",
      "text/plain": [
       "<Figure size 640x480 with 1 Axes>"
      ]
     },
     "metadata": {},
     "output_type": "display_data"
    }
   ],
   "source": [
    "#Plotting PACF graph to cross check\n",
    "from statsmodels.graphics.tsaplots import plot_pacf\n",
    "plot_pacf(df2['Weekly_Sales'], lags=20);"
   ]
  },
  {
   "cell_type": "code",
   "execution_count": 23,
   "id": "b0c679eb",
   "metadata": {
    "scrolled": true
   },
   "outputs": [],
   "source": [
    "from pmdarima import auto_arima\n",
    "from statsmodels.tsa.arima_model import ARIMA,ARIMAResults\n",
    "from statsmodels.graphics.tsaplots import plot_acf, plot_pacf"
   ]
  },
  {
   "cell_type": "code",
   "execution_count": 24,
   "id": "b732abd6",
   "metadata": {},
   "outputs": [
    {
     "data": {
      "text/html": [
       "<table class=\"simpletable\">\n",
       "<caption>SARIMAX Results</caption>\n",
       "<tr>\n",
       "  <th>Dep. Variable:</th>                   <td>y</td>                <th>  No. Observations:  </th>    <td>142</td>  \n",
       "</tr>\n",
       "<tr>\n",
       "  <th>Model:</th>           <td>SARIMAX(3, 1, 0)x(1, 0, [1], 52)</td> <th>  Log Likelihood     </th> <td>-841.097</td>\n",
       "</tr>\n",
       "<tr>\n",
       "  <th>Date:</th>                    <td>Sun, 13 Aug 2023</td>         <th>  AIC                </th> <td>1694.194</td>\n",
       "</tr>\n",
       "<tr>\n",
       "  <th>Time:</th>                        <td>13:46:57</td>             <th>  BIC                </th> <td>1711.887</td>\n",
       "</tr>\n",
       "<tr>\n",
       "  <th>Sample:</th>                     <td>02-05-2010</td>            <th>  HQIC               </th> <td>1701.384</td>\n",
       "</tr>\n",
       "<tr>\n",
       "  <th></th>                           <td>- 10-19-2012</td>           <th>                     </th>     <td> </td>   \n",
       "</tr>\n",
       "<tr>\n",
       "  <th>Covariance Type:</th>                <td>opg</td>               <th>                     </th>     <td> </td>   \n",
       "</tr>\n",
       "</table>\n",
       "<table class=\"simpletable\">\n",
       "<tr>\n",
       "      <td></td>        <th>coef</th>     <th>std err</th>      <th>z</th>      <th>P>|z|</th>  <th>[0.025</th>    <th>0.975]</th>  \n",
       "</tr>\n",
       "<tr>\n",
       "  <th>ar.L1</th>    <td>   -0.6630</td> <td>    0.058</td> <td>  -11.514</td> <td> 0.000</td> <td>   -0.776</td> <td>   -0.550</td>\n",
       "</tr>\n",
       "<tr>\n",
       "  <th>ar.L2</th>    <td>   -0.5245</td> <td>    0.057</td> <td>   -9.176</td> <td> 0.000</td> <td>   -0.636</td> <td>   -0.412</td>\n",
       "</tr>\n",
       "<tr>\n",
       "  <th>ar.L3</th>    <td>   -0.3425</td> <td>    0.057</td> <td>   -6.040</td> <td> 0.000</td> <td>   -0.454</td> <td>   -0.231</td>\n",
       "</tr>\n",
       "<tr>\n",
       "  <th>ar.S.L52</th> <td>    0.9824</td> <td>    0.030</td> <td>   32.631</td> <td> 0.000</td> <td>    0.923</td> <td>    1.041</td>\n",
       "</tr>\n",
       "<tr>\n",
       "  <th>ma.S.L52</th> <td>   -0.5020</td> <td>    0.374</td> <td>   -1.342</td> <td> 0.180</td> <td>   -1.235</td> <td>    0.231</td>\n",
       "</tr>\n",
       "<tr>\n",
       "  <th>sigma2</th>   <td> 3868.3247</td> <td>  954.528</td> <td>    4.053</td> <td> 0.000</td> <td> 1997.485</td> <td> 5739.165</td>\n",
       "</tr>\n",
       "</table>\n",
       "<table class=\"simpletable\">\n",
       "<tr>\n",
       "  <th>Ljung-Box (L1) (Q):</th>     <td>0.00</td> <th>  Jarque-Bera (JB):  </th> <td>17.09</td>\n",
       "</tr>\n",
       "<tr>\n",
       "  <th>Prob(Q):</th>                <td>0.94</td> <th>  Prob(JB):          </th> <td>0.00</td> \n",
       "</tr>\n",
       "<tr>\n",
       "  <th>Heteroskedasticity (H):</th> <td>1.43</td> <th>  Skew:              </th> <td>0.20</td> \n",
       "</tr>\n",
       "<tr>\n",
       "  <th>Prob(H) (two-sided):</th>    <td>0.22</td> <th>  Kurtosis:          </th> <td>4.66</td> \n",
       "</tr>\n",
       "</table><br/><br/>Warnings:<br/>[1] Covariance matrix calculated using the outer product of gradients (complex-step)."
      ],
      "text/latex": [
       "\\begin{center}\n",
       "\\begin{tabular}{lclc}\n",
       "\\toprule\n",
       "\\textbf{Dep. Variable:}          &                y                 & \\textbf{  No. Observations:  } &    142      \\\\\n",
       "\\textbf{Model:}                  & SARIMAX(3, 1, 0)x(1, 0, [1], 52) & \\textbf{  Log Likelihood     } &  -841.097   \\\\\n",
       "\\textbf{Date:}                   &         Sun, 13 Aug 2023         & \\textbf{  AIC                } &  1694.194   \\\\\n",
       "\\textbf{Time:}                   &             13:46:57             & \\textbf{  BIC                } &  1711.887   \\\\\n",
       "\\textbf{Sample:}                 &            02-05-2010            & \\textbf{  HQIC               } &  1701.384   \\\\\n",
       "\\textbf{}                        &           - 10-19-2012           & \\textbf{                     } &             \\\\\n",
       "\\textbf{Covariance Type:}        &               opg                & \\textbf{                     } &             \\\\\n",
       "\\bottomrule\n",
       "\\end{tabular}\n",
       "\\begin{tabular}{lcccccc}\n",
       "                  & \\textbf{coef} & \\textbf{std err} & \\textbf{z} & \\textbf{P$> |$z$|$} & \\textbf{[0.025} & \\textbf{0.975]}  \\\\\n",
       "\\midrule\n",
       "\\textbf{ar.L1}    &      -0.6630  &        0.058     &   -11.514  &         0.000        &       -0.776    &       -0.550     \\\\\n",
       "\\textbf{ar.L2}    &      -0.5245  &        0.057     &    -9.176  &         0.000        &       -0.636    &       -0.412     \\\\\n",
       "\\textbf{ar.L3}    &      -0.3425  &        0.057     &    -6.040  &         0.000        &       -0.454    &       -0.231     \\\\\n",
       "\\textbf{ar.S.L52} &       0.9824  &        0.030     &    32.631  &         0.000        &        0.923    &        1.041     \\\\\n",
       "\\textbf{ma.S.L52} &      -0.5020  &        0.374     &    -1.342  &         0.180        &       -1.235    &        0.231     \\\\\n",
       "\\textbf{sigma2}   &    3868.3247  &      954.528     &     4.053  &         0.000        &     1997.485    &     5739.165     \\\\\n",
       "\\bottomrule\n",
       "\\end{tabular}\n",
       "\\begin{tabular}{lclc}\n",
       "\\textbf{Ljung-Box (L1) (Q):}     & 0.00 & \\textbf{  Jarque-Bera (JB):  } & 17.09  \\\\\n",
       "\\textbf{Prob(Q):}                & 0.94 & \\textbf{  Prob(JB):          } &  0.00  \\\\\n",
       "\\textbf{Heteroskedasticity (H):} & 1.43 & \\textbf{  Skew:              } &  0.20  \\\\\n",
       "\\textbf{Prob(H) (two-sided):}    & 0.22 & \\textbf{  Kurtosis:          } &  4.66  \\\\\n",
       "\\bottomrule\n",
       "\\end{tabular}\n",
       "%\\caption{SARIMAX Results}\n",
       "\\end{center}\n",
       "\n",
       "Warnings: \\newline\n",
       " [1] Covariance matrix calculated using the outer product of gradients (complex-step)."
      ],
      "text/plain": [
       "<class 'statsmodels.iolib.summary.Summary'>\n",
       "\"\"\"\n",
       "                                      SARIMAX Results                                       \n",
       "============================================================================================\n",
       "Dep. Variable:                                    y   No. Observations:                  142\n",
       "Model:             SARIMAX(3, 1, 0)x(1, 0, [1], 52)   Log Likelihood                -841.097\n",
       "Date:                              Sun, 13 Aug 2023   AIC                           1694.194\n",
       "Time:                                      13:46:57   BIC                           1711.887\n",
       "Sample:                                  02-05-2010   HQIC                          1701.384\n",
       "                                       - 10-19-2012                                         \n",
       "Covariance Type:                                opg                                         \n",
       "==============================================================================\n",
       "                 coef    std err          z      P>|z|      [0.025      0.975]\n",
       "------------------------------------------------------------------------------\n",
       "ar.L1         -0.6630      0.058    -11.514      0.000      -0.776      -0.550\n",
       "ar.L2         -0.5245      0.057     -9.176      0.000      -0.636      -0.412\n",
       "ar.L3         -0.3425      0.057     -6.040      0.000      -0.454      -0.231\n",
       "ar.S.L52       0.9824      0.030     32.631      0.000       0.923       1.041\n",
       "ma.S.L52      -0.5020      0.374     -1.342      0.180      -1.235       0.231\n",
       "sigma2      3868.3247    954.528      4.053      0.000    1997.485    5739.165\n",
       "===================================================================================\n",
       "Ljung-Box (L1) (Q):                   0.00   Jarque-Bera (JB):                17.09\n",
       "Prob(Q):                              0.94   Prob(JB):                         0.00\n",
       "Heteroskedasticity (H):               1.43   Skew:                             0.20\n",
       "Prob(H) (two-sided):                  0.22   Kurtosis:                         4.66\n",
       "===================================================================================\n",
       "\n",
       "Warnings:\n",
       "[1] Covariance matrix calculated using the outer product of gradients (complex-step).\n",
       "\"\"\""
      ]
     },
     "execution_count": 24,
     "metadata": {},
     "output_type": "execute_result"
    }
   ],
   "source": [
    "# Checking for the possible values of (p,d,q) and (P,D,Q,m)\n",
    "#Putting the value of m=12, because it's clear from the previous graphs that there's a seasonality in a year frequency i.e. after 52 weeks\n",
    "auto_arima(df2['Weekly_Sales'],seasonal=True,m=52).summary()"
   ]
  },
  {
   "cell_type": "code",
   "execution_count": 25,
   "id": "a8c3b123",
   "metadata": {},
   "outputs": [
    {
     "data": {
      "text/plain": [
       "142"
      ]
     },
     "execution_count": 25,
     "metadata": {},
     "output_type": "execute_result"
    }
   ],
   "source": [
    "len(df2)"
   ]
  },
  {
   "cell_type": "code",
   "execution_count": 26,
   "id": "17540e87",
   "metadata": {},
   "outputs": [
    {
     "data": {
      "text/html": [
       "<div>\n",
       "<style scoped>\n",
       "    .dataframe tbody tr th:only-of-type {\n",
       "        vertical-align: middle;\n",
       "    }\n",
       "\n",
       "    .dataframe tbody tr th {\n",
       "        vertical-align: top;\n",
       "    }\n",
       "\n",
       "    .dataframe thead th {\n",
       "        text-align: right;\n",
       "    }\n",
       "</style>\n",
       "<table border=\"1\" class=\"dataframe\">\n",
       "  <thead>\n",
       "    <tr style=\"text-align: right;\">\n",
       "      <th></th>\n",
       "      <th>Date</th>\n",
       "      <th>Weekly_Sales</th>\n",
       "      <th>Holiday_Flag</th>\n",
       "      <th>Temperature</th>\n",
       "      <th>Fuel_Price</th>\n",
       "      <th>CPI</th>\n",
       "      <th>Unemployment</th>\n",
       "    </tr>\n",
       "    <tr>\n",
       "      <th>Date</th>\n",
       "      <th></th>\n",
       "      <th></th>\n",
       "      <th></th>\n",
       "      <th></th>\n",
       "      <th></th>\n",
       "      <th></th>\n",
       "      <th></th>\n",
       "    </tr>\n",
       "  </thead>\n",
       "  <tbody>\n",
       "    <tr>\n",
       "      <th>2010-02-05</th>\n",
       "      <td>2010-02-05</td>\n",
       "      <td>1643</td>\n",
       "      <td>0</td>\n",
       "      <td>42</td>\n",
       "      <td>25</td>\n",
       "      <td>211</td>\n",
       "      <td>81</td>\n",
       "    </tr>\n",
       "    <tr>\n",
       "      <th>2010-02-12</th>\n",
       "      <td>2010-02-12</td>\n",
       "      <td>1641</td>\n",
       "      <td>1</td>\n",
       "      <td>38</td>\n",
       "      <td>25</td>\n",
       "      <td>211</td>\n",
       "      <td>81</td>\n",
       "    </tr>\n",
       "    <tr>\n",
       "      <th>2010-02-19</th>\n",
       "      <td>2010-02-19</td>\n",
       "      <td>1611</td>\n",
       "      <td>0</td>\n",
       "      <td>39</td>\n",
       "      <td>25</td>\n",
       "      <td>211</td>\n",
       "      <td>81</td>\n",
       "    </tr>\n",
       "    <tr>\n",
       "      <th>2010-02-26</th>\n",
       "      <td>2010-02-26</td>\n",
       "      <td>1409</td>\n",
       "      <td>0</td>\n",
       "      <td>46</td>\n",
       "      <td>25</td>\n",
       "      <td>211</td>\n",
       "      <td>81</td>\n",
       "    </tr>\n",
       "    <tr>\n",
       "      <th>2010-03-05</th>\n",
       "      <td>2010-03-05</td>\n",
       "      <td>1554</td>\n",
       "      <td>0</td>\n",
       "      <td>46</td>\n",
       "      <td>26</td>\n",
       "      <td>211</td>\n",
       "      <td>81</td>\n",
       "    </tr>\n",
       "    <tr>\n",
       "      <th>...</th>\n",
       "      <td>...</td>\n",
       "      <td>...</td>\n",
       "      <td>...</td>\n",
       "      <td>...</td>\n",
       "      <td>...</td>\n",
       "      <td>...</td>\n",
       "      <td>...</td>\n",
       "    </tr>\n",
       "    <tr>\n",
       "      <th>2012-04-20</th>\n",
       "      <td>2012-04-20</td>\n",
       "      <td>1521</td>\n",
       "      <td>0</td>\n",
       "      <td>66</td>\n",
       "      <td>38</td>\n",
       "      <td>221</td>\n",
       "      <td>71</td>\n",
       "    </tr>\n",
       "    <tr>\n",
       "      <th>2012-04-27</th>\n",
       "      <td>2012-04-27</td>\n",
       "      <td>1468</td>\n",
       "      <td>0</td>\n",
       "      <td>67</td>\n",
       "      <td>38</td>\n",
       "      <td>221</td>\n",
       "      <td>71</td>\n",
       "    </tr>\n",
       "    <tr>\n",
       "      <th>2012-05-04</th>\n",
       "      <td>2012-05-04</td>\n",
       "      <td>1684</td>\n",
       "      <td>0</td>\n",
       "      <td>75</td>\n",
       "      <td>37</td>\n",
       "      <td>221</td>\n",
       "      <td>71</td>\n",
       "    </tr>\n",
       "    <tr>\n",
       "      <th>2012-05-11</th>\n",
       "      <td>2012-05-11</td>\n",
       "      <td>1611</td>\n",
       "      <td>0</td>\n",
       "      <td>73</td>\n",
       "      <td>36</td>\n",
       "      <td>221</td>\n",
       "      <td>71</td>\n",
       "    </tr>\n",
       "    <tr>\n",
       "      <th>2012-05-18</th>\n",
       "      <td>2012-05-18</td>\n",
       "      <td>1595</td>\n",
       "      <td>0</td>\n",
       "      <td>70</td>\n",
       "      <td>36</td>\n",
       "      <td>221</td>\n",
       "      <td>71</td>\n",
       "    </tr>\n",
       "  </tbody>\n",
       "</table>\n",
       "<p>120 rows × 7 columns</p>\n",
       "</div>"
      ],
      "text/plain": [
       "                 Date  Weekly_Sales  Holiday_Flag  Temperature  Fuel_Price  \\\n",
       "Date                                                                         \n",
       "2010-02-05 2010-02-05          1643             0           42          25   \n",
       "2010-02-12 2010-02-12          1641             1           38          25   \n",
       "2010-02-19 2010-02-19          1611             0           39          25   \n",
       "2010-02-26 2010-02-26          1409             0           46          25   \n",
       "2010-03-05 2010-03-05          1554             0           46          26   \n",
       "...               ...           ...           ...          ...         ...   \n",
       "2012-04-20 2012-04-20          1521             0           66          38   \n",
       "2012-04-27 2012-04-27          1468             0           67          38   \n",
       "2012-05-04 2012-05-04          1684             0           75          37   \n",
       "2012-05-11 2012-05-11          1611             0           73          36   \n",
       "2012-05-18 2012-05-18          1595             0           70          36   \n",
       "\n",
       "            CPI  Unemployment  \n",
       "Date                           \n",
       "2010-02-05  211            81  \n",
       "2010-02-12  211            81  \n",
       "2010-02-19  211            81  \n",
       "2010-02-26  211            81  \n",
       "2010-03-05  211            81  \n",
       "...         ...           ...  \n",
       "2012-04-20  221            71  \n",
       "2012-04-27  221            71  \n",
       "2012-05-04  221            71  \n",
       "2012-05-11  221            71  \n",
       "2012-05-18  221            71  \n",
       "\n",
       "[120 rows x 7 columns]"
      ]
     },
     "execution_count": 26,
     "metadata": {},
     "output_type": "execute_result"
    }
   ],
   "source": [
    "#Taking 120 datavalues among 142 datapoints to train the model\n",
    "train=df2.iloc[:120]\n",
    "train"
   ]
  },
  {
   "cell_type": "code",
   "execution_count": 27,
   "id": "c381e277",
   "metadata": {},
   "outputs": [
    {
     "data": {
      "text/html": [
       "<div>\n",
       "<style scoped>\n",
       "    .dataframe tbody tr th:only-of-type {\n",
       "        vertical-align: middle;\n",
       "    }\n",
       "\n",
       "    .dataframe tbody tr th {\n",
       "        vertical-align: top;\n",
       "    }\n",
       "\n",
       "    .dataframe thead th {\n",
       "        text-align: right;\n",
       "    }\n",
       "</style>\n",
       "<table border=\"1\" class=\"dataframe\">\n",
       "  <thead>\n",
       "    <tr style=\"text-align: right;\">\n",
       "      <th></th>\n",
       "      <th>Date</th>\n",
       "      <th>Weekly_Sales</th>\n",
       "      <th>Holiday_Flag</th>\n",
       "      <th>Temperature</th>\n",
       "      <th>Fuel_Price</th>\n",
       "      <th>CPI</th>\n",
       "      <th>Unemployment</th>\n",
       "    </tr>\n",
       "    <tr>\n",
       "      <th>Date</th>\n",
       "      <th></th>\n",
       "      <th></th>\n",
       "      <th></th>\n",
       "      <th></th>\n",
       "      <th></th>\n",
       "      <th></th>\n",
       "      <th></th>\n",
       "    </tr>\n",
       "  </thead>\n",
       "  <tbody>\n",
       "    <tr>\n",
       "      <th>2012-05-25</th>\n",
       "      <td>2012-05-25</td>\n",
       "      <td>1555</td>\n",
       "      <td>0</td>\n",
       "      <td>77</td>\n",
       "      <td>35</td>\n",
       "      <td>221</td>\n",
       "      <td>71</td>\n",
       "    </tr>\n",
       "    <tr>\n",
       "      <th>2012-06-01</th>\n",
       "      <td>2012-06-01</td>\n",
       "      <td>1624</td>\n",
       "      <td>0</td>\n",
       "      <td>77</td>\n",
       "      <td>35</td>\n",
       "      <td>221</td>\n",
       "      <td>71</td>\n",
       "    </tr>\n",
       "    <tr>\n",
       "      <th>2012-06-08</th>\n",
       "      <td>2012-06-08</td>\n",
       "      <td>1697</td>\n",
       "      <td>0</td>\n",
       "      <td>78</td>\n",
       "      <td>34</td>\n",
       "      <td>221</td>\n",
       "      <td>71</td>\n",
       "    </tr>\n",
       "    <tr>\n",
       "      <th>2012-06-15</th>\n",
       "      <td>2012-06-15</td>\n",
       "      <td>1630</td>\n",
       "      <td>0</td>\n",
       "      <td>79</td>\n",
       "      <td>33</td>\n",
       "      <td>221</td>\n",
       "      <td>71</td>\n",
       "    </tr>\n",
       "    <tr>\n",
       "      <th>2012-06-22</th>\n",
       "      <td>2012-06-22</td>\n",
       "      <td>1527</td>\n",
       "      <td>0</td>\n",
       "      <td>78</td>\n",
       "      <td>33</td>\n",
       "      <td>221</td>\n",
       "      <td>71</td>\n",
       "    </tr>\n",
       "    <tr>\n",
       "      <th>2012-06-29</th>\n",
       "      <td>2012-06-29</td>\n",
       "      <td>1540</td>\n",
       "      <td>0</td>\n",
       "      <td>84</td>\n",
       "      <td>32</td>\n",
       "      <td>221</td>\n",
       "      <td>71</td>\n",
       "    </tr>\n",
       "    <tr>\n",
       "      <th>2012-07-06</th>\n",
       "      <td>2012-07-06</td>\n",
       "      <td>1769</td>\n",
       "      <td>0</td>\n",
       "      <td>81</td>\n",
       "      <td>32</td>\n",
       "      <td>221</td>\n",
       "      <td>69</td>\n",
       "    </tr>\n",
       "    <tr>\n",
       "      <th>2012-07-13</th>\n",
       "      <td>2012-07-13</td>\n",
       "      <td>1527</td>\n",
       "      <td>0</td>\n",
       "      <td>77</td>\n",
       "      <td>32</td>\n",
       "      <td>221</td>\n",
       "      <td>69</td>\n",
       "    </tr>\n",
       "    <tr>\n",
       "      <th>2012-07-20</th>\n",
       "      <td>2012-07-20</td>\n",
       "      <td>1497</td>\n",
       "      <td>0</td>\n",
       "      <td>80</td>\n",
       "      <td>33</td>\n",
       "      <td>221</td>\n",
       "      <td>69</td>\n",
       "    </tr>\n",
       "    <tr>\n",
       "      <th>2012-07-27</th>\n",
       "      <td>2012-07-27</td>\n",
       "      <td>1439</td>\n",
       "      <td>0</td>\n",
       "      <td>82</td>\n",
       "      <td>34</td>\n",
       "      <td>221</td>\n",
       "      <td>69</td>\n",
       "    </tr>\n",
       "    <tr>\n",
       "      <th>2012-08-03</th>\n",
       "      <td>2012-08-03</td>\n",
       "      <td>1631</td>\n",
       "      <td>0</td>\n",
       "      <td>86</td>\n",
       "      <td>34</td>\n",
       "      <td>221</td>\n",
       "      <td>69</td>\n",
       "    </tr>\n",
       "    <tr>\n",
       "      <th>2012-08-10</th>\n",
       "      <td>2012-08-10</td>\n",
       "      <td>1592</td>\n",
       "      <td>0</td>\n",
       "      <td>85</td>\n",
       "      <td>34</td>\n",
       "      <td>221</td>\n",
       "      <td>69</td>\n",
       "    </tr>\n",
       "    <tr>\n",
       "      <th>2012-08-17</th>\n",
       "      <td>2012-08-17</td>\n",
       "      <td>1597</td>\n",
       "      <td>0</td>\n",
       "      <td>84</td>\n",
       "      <td>35</td>\n",
       "      <td>222</td>\n",
       "      <td>69</td>\n",
       "    </tr>\n",
       "    <tr>\n",
       "      <th>2012-08-24</th>\n",
       "      <td>2012-08-24</td>\n",
       "      <td>1494</td>\n",
       "      <td>0</td>\n",
       "      <td>77</td>\n",
       "      <td>36</td>\n",
       "      <td>222</td>\n",
       "      <td>69</td>\n",
       "    </tr>\n",
       "    <tr>\n",
       "      <th>2012-08-31</th>\n",
       "      <td>2012-08-31</td>\n",
       "      <td>1582</td>\n",
       "      <td>0</td>\n",
       "      <td>80</td>\n",
       "      <td>36</td>\n",
       "      <td>222</td>\n",
       "      <td>69</td>\n",
       "    </tr>\n",
       "    <tr>\n",
       "      <th>2012-09-07</th>\n",
       "      <td>2012-09-07</td>\n",
       "      <td>1661</td>\n",
       "      <td>1</td>\n",
       "      <td>83</td>\n",
       "      <td>37</td>\n",
       "      <td>222</td>\n",
       "      <td>69</td>\n",
       "    </tr>\n",
       "    <tr>\n",
       "      <th>2012-09-14</th>\n",
       "      <td>2012-09-14</td>\n",
       "      <td>1517</td>\n",
       "      <td>0</td>\n",
       "      <td>74</td>\n",
       "      <td>37</td>\n",
       "      <td>222</td>\n",
       "      <td>69</td>\n",
       "    </tr>\n",
       "    <tr>\n",
       "      <th>2012-09-21</th>\n",
       "      <td>2012-09-21</td>\n",
       "      <td>1506</td>\n",
       "      <td>0</td>\n",
       "      <td>69</td>\n",
       "      <td>37</td>\n",
       "      <td>222</td>\n",
       "      <td>69</td>\n",
       "    </tr>\n",
       "    <tr>\n",
       "      <th>2012-09-28</th>\n",
       "      <td>2012-09-28</td>\n",
       "      <td>1437</td>\n",
       "      <td>0</td>\n",
       "      <td>76</td>\n",
       "      <td>36</td>\n",
       "      <td>222</td>\n",
       "      <td>69</td>\n",
       "    </tr>\n",
       "    <tr>\n",
       "      <th>2012-10-05</th>\n",
       "      <td>2012-10-05</td>\n",
       "      <td>1670</td>\n",
       "      <td>0</td>\n",
       "      <td>68</td>\n",
       "      <td>36</td>\n",
       "      <td>223</td>\n",
       "      <td>65</td>\n",
       "    </tr>\n",
       "    <tr>\n",
       "      <th>2012-10-12</th>\n",
       "      <td>2012-10-12</td>\n",
       "      <td>1573</td>\n",
       "      <td>0</td>\n",
       "      <td>62</td>\n",
       "      <td>36</td>\n",
       "      <td>223</td>\n",
       "      <td>65</td>\n",
       "    </tr>\n",
       "    <tr>\n",
       "      <th>2012-10-19</th>\n",
       "      <td>2012-10-19</td>\n",
       "      <td>1508</td>\n",
       "      <td>0</td>\n",
       "      <td>67</td>\n",
       "      <td>35</td>\n",
       "      <td>223</td>\n",
       "      <td>65</td>\n",
       "    </tr>\n",
       "  </tbody>\n",
       "</table>\n",
       "</div>"
      ],
      "text/plain": [
       "                 Date  Weekly_Sales  Holiday_Flag  Temperature  Fuel_Price  \\\n",
       "Date                                                                         \n",
       "2012-05-25 2012-05-25          1555             0           77          35   \n",
       "2012-06-01 2012-06-01          1624             0           77          35   \n",
       "2012-06-08 2012-06-08          1697             0           78          34   \n",
       "2012-06-15 2012-06-15          1630             0           79          33   \n",
       "2012-06-22 2012-06-22          1527             0           78          33   \n",
       "2012-06-29 2012-06-29          1540             0           84          32   \n",
       "2012-07-06 2012-07-06          1769             0           81          32   \n",
       "2012-07-13 2012-07-13          1527             0           77          32   \n",
       "2012-07-20 2012-07-20          1497             0           80          33   \n",
       "2012-07-27 2012-07-27          1439             0           82          34   \n",
       "2012-08-03 2012-08-03          1631             0           86          34   \n",
       "2012-08-10 2012-08-10          1592             0           85          34   \n",
       "2012-08-17 2012-08-17          1597             0           84          35   \n",
       "2012-08-24 2012-08-24          1494             0           77          36   \n",
       "2012-08-31 2012-08-31          1582             0           80          36   \n",
       "2012-09-07 2012-09-07          1661             1           83          37   \n",
       "2012-09-14 2012-09-14          1517             0           74          37   \n",
       "2012-09-21 2012-09-21          1506             0           69          37   \n",
       "2012-09-28 2012-09-28          1437             0           76          36   \n",
       "2012-10-05 2012-10-05          1670             0           68          36   \n",
       "2012-10-12 2012-10-12          1573             0           62          36   \n",
       "2012-10-19 2012-10-19          1508             0           67          35   \n",
       "\n",
       "            CPI  Unemployment  \n",
       "Date                           \n",
       "2012-05-25  221            71  \n",
       "2012-06-01  221            71  \n",
       "2012-06-08  221            71  \n",
       "2012-06-15  221            71  \n",
       "2012-06-22  221            71  \n",
       "2012-06-29  221            71  \n",
       "2012-07-06  221            69  \n",
       "2012-07-13  221            69  \n",
       "2012-07-20  221            69  \n",
       "2012-07-27  221            69  \n",
       "2012-08-03  221            69  \n",
       "2012-08-10  221            69  \n",
       "2012-08-17  222            69  \n",
       "2012-08-24  222            69  \n",
       "2012-08-31  222            69  \n",
       "2012-09-07  222            69  \n",
       "2012-09-14  222            69  \n",
       "2012-09-21  222            69  \n",
       "2012-09-28  222            69  \n",
       "2012-10-05  223            65  \n",
       "2012-10-12  223            65  \n",
       "2012-10-19  223            65  "
      ]
     },
     "execution_count": 27,
     "metadata": {},
     "output_type": "execute_result"
    }
   ],
   "source": [
    "# Taking the rest 12 datapoints for testing the model\n",
    "test=df2.iloc[120:]\n",
    "test"
   ]
  },
  {
   "cell_type": "code",
   "execution_count": 28,
   "id": "285b64c2",
   "metadata": {},
   "outputs": [],
   "source": [
    "# These are the exogenous features that we will use to train our SARIMAX model\n",
    "features = ['Holiday_Flag','Temperature','Fuel_Price','CPI','Unemployment']"
   ]
  },
  {
   "cell_type": "code",
   "execution_count": 29,
   "id": "803fef73",
   "metadata": {},
   "outputs": [],
   "source": [
    "from statsmodels.tsa.statespace.sarimax import SARIMAX"
   ]
  },
  {
   "cell_type": "code",
   "execution_count": 30,
   "id": "9b36a1c5",
   "metadata": {},
   "outputs": [
    {
     "name": "stderr",
     "output_type": "stream",
     "text": [
      "C:\\Users\\Supriyo\\anaconda3\\Lib\\site-packages\\statsmodels\\tsa\\base\\tsa_model.py:473: ValueWarning: No frequency information was provided, so inferred frequency W-FRI will be used.\n",
      "  self._init_dates(dates, freq)\n",
      "C:\\Users\\Supriyo\\anaconda3\\Lib\\site-packages\\statsmodels\\tsa\\base\\tsa_model.py:473: ValueWarning: No frequency information was provided, so inferred frequency W-FRI will be used.\n",
      "  self._init_dates(dates, freq)\n"
     ]
    }
   ],
   "source": [
    "# Training the model using the calculated parameters and with the exogenous features\n",
    "model=SARIMAX(endog=train['Weekly_Sales'],exog=train[features],order=(3,1,0),seasonal_order=(1, 0, 1, 52))"
   ]
  },
  {
   "cell_type": "code",
   "execution_count": 31,
   "id": "b879c596",
   "metadata": {},
   "outputs": [
    {
     "name": "stderr",
     "output_type": "stream",
     "text": [
      "C:\\Users\\Supriyo\\anaconda3\\Lib\\site-packages\\statsmodels\\tsa\\statespace\\sarimax.py:866: UserWarning: Too few observations to estimate starting parameters for seasonal ARMA. All parameters except for variances will be set to zeros.\n",
      "  warn('Too few observations to estimate starting parameters%s.'\n",
      "C:\\Users\\Supriyo\\anaconda3\\Lib\\site-packages\\statsmodels\\base\\model.py:607: ConvergenceWarning: Maximum Likelihood optimization failed to converge. Check mle_retvals\n",
      "  warnings.warn(\"Maximum Likelihood optimization failed to \"\n"
     ]
    }
   ],
   "source": [
    "#Fitting the model\n",
    "result=model.fit()"
   ]
  },
  {
   "cell_type": "code",
   "execution_count": 32,
   "id": "203421c6",
   "metadata": {
    "scrolled": true
   },
   "outputs": [
    {
     "data": {
      "text/html": [
       "<table class=\"simpletable\">\n",
       "<caption>SARIMAX Results</caption>\n",
       "<tr>\n",
       "  <th>Dep. Variable:</th>             <td>Weekly_Sales</td>           <th>  No. Observations:  </th>    <td>120</td>  \n",
       "</tr>\n",
       "<tr>\n",
       "  <th>Model:</th>           <td>SARIMAX(3, 1, 0)x(1, 0, [1], 52)</td> <th>  Log Likelihood     </th> <td>-720.011</td>\n",
       "</tr>\n",
       "<tr>\n",
       "  <th>Date:</th>                    <td>Sun, 13 Aug 2023</td>         <th>  AIC                </th> <td>1462.022</td>\n",
       "</tr>\n",
       "<tr>\n",
       "  <th>Time:</th>                        <td>13:48:52</td>             <th>  BIC                </th> <td>1492.593</td>\n",
       "</tr>\n",
       "<tr>\n",
       "  <th>Sample:</th>                     <td>02-05-2010</td>            <th>  HQIC               </th> <td>1474.436</td>\n",
       "</tr>\n",
       "<tr>\n",
       "  <th></th>                           <td>- 05-18-2012</td>           <th>                     </th>     <td> </td>   \n",
       "</tr>\n",
       "<tr>\n",
       "  <th>Covariance Type:</th>                <td>opg</td>               <th>                     </th>     <td> </td>   \n",
       "</tr>\n",
       "</table>\n",
       "<table class=\"simpletable\">\n",
       "<tr>\n",
       "        <td></td>          <th>coef</th>     <th>std err</th>      <th>z</th>      <th>P>|z|</th>  <th>[0.025</th>    <th>0.975]</th>  \n",
       "</tr>\n",
       "<tr>\n",
       "  <th>Holiday_Flag</th> <td>   28.2366</td> <td>   46.737</td> <td>    0.604</td> <td> 0.546</td> <td>  -63.366</td> <td>  119.839</td>\n",
       "</tr>\n",
       "<tr>\n",
       "  <th>Temperature</th>  <td>    0.7713</td> <td>    1.280</td> <td>    0.603</td> <td> 0.547</td> <td>   -1.738</td> <td>    3.280</td>\n",
       "</tr>\n",
       "<tr>\n",
       "  <th>Fuel_Price</th>   <td>   -0.1565</td> <td>    7.507</td> <td>   -0.021</td> <td> 0.983</td> <td>  -14.870</td> <td>   14.557</td>\n",
       "</tr>\n",
       "<tr>\n",
       "  <th>CPI</th>          <td>    2.8886</td> <td>   13.401</td> <td>    0.216</td> <td> 0.829</td> <td>  -23.377</td> <td>   29.154</td>\n",
       "</tr>\n",
       "<tr>\n",
       "  <th>Unemployment</th> <td>   -9.6949</td> <td>   13.629</td> <td>   -0.711</td> <td> 0.477</td> <td>  -36.407</td> <td>   17.018</td>\n",
       "</tr>\n",
       "<tr>\n",
       "  <th>ar.L1</th>        <td>   -0.5863</td> <td>    0.067</td> <td>   -8.773</td> <td> 0.000</td> <td>   -0.717</td> <td>   -0.455</td>\n",
       "</tr>\n",
       "<tr>\n",
       "  <th>ar.L2</th>        <td>   -0.4778</td> <td>    0.069</td> <td>   -6.972</td> <td> 0.000</td> <td>   -0.612</td> <td>   -0.343</td>\n",
       "</tr>\n",
       "<tr>\n",
       "  <th>ar.L3</th>        <td>   -0.3323</td> <td>    0.065</td> <td>   -5.111</td> <td> 0.000</td> <td>   -0.460</td> <td>   -0.205</td>\n",
       "</tr>\n",
       "<tr>\n",
       "  <th>ar.S.L52</th>     <td>    0.9912</td> <td>    0.034</td> <td>   28.929</td> <td> 0.000</td> <td>    0.924</td> <td>    1.058</td>\n",
       "</tr>\n",
       "<tr>\n",
       "  <th>ma.S.L52</th>     <td>   -0.6386</td> <td>    0.623</td> <td>   -1.025</td> <td> 0.305</td> <td>   -1.859</td> <td>    0.582</td>\n",
       "</tr>\n",
       "<tr>\n",
       "  <th>sigma2</th>       <td> 3503.1349</td> <td> 1688.834</td> <td>    2.074</td> <td> 0.038</td> <td>  193.081</td> <td> 6813.189</td>\n",
       "</tr>\n",
       "</table>\n",
       "<table class=\"simpletable\">\n",
       "<tr>\n",
       "  <th>Ljung-Box (L1) (Q):</th>     <td>0.01</td> <th>  Jarque-Bera (JB):  </th> <td>18.97</td>\n",
       "</tr>\n",
       "<tr>\n",
       "  <th>Prob(Q):</th>                <td>0.94</td> <th>  Prob(JB):          </th> <td>0.00</td> \n",
       "</tr>\n",
       "<tr>\n",
       "  <th>Heteroskedasticity (H):</th> <td>6.69</td> <th>  Skew:              </th> <td>0.10</td> \n",
       "</tr>\n",
       "<tr>\n",
       "  <th>Prob(H) (two-sided):</th>    <td>0.00</td> <th>  Kurtosis:          </th> <td>4.95</td> \n",
       "</tr>\n",
       "</table><br/><br/>Warnings:<br/>[1] Covariance matrix calculated using the outer product of gradients (complex-step)."
      ],
      "text/latex": [
       "\\begin{center}\n",
       "\\begin{tabular}{lclc}\n",
       "\\toprule\n",
       "\\textbf{Dep. Variable:}          &          Weekly\\_Sales           & \\textbf{  No. Observations:  } &    120      \\\\\n",
       "\\textbf{Model:}                  & SARIMAX(3, 1, 0)x(1, 0, [1], 52) & \\textbf{  Log Likelihood     } &  -720.011   \\\\\n",
       "\\textbf{Date:}                   &         Sun, 13 Aug 2023         & \\textbf{  AIC                } &  1462.022   \\\\\n",
       "\\textbf{Time:}                   &             13:48:52             & \\textbf{  BIC                } &  1492.593   \\\\\n",
       "\\textbf{Sample:}                 &            02-05-2010            & \\textbf{  HQIC               } &  1474.436   \\\\\n",
       "\\textbf{}                        &           - 05-18-2012           & \\textbf{                     } &             \\\\\n",
       "\\textbf{Covariance Type:}        &               opg                & \\textbf{                     } &             \\\\\n",
       "\\bottomrule\n",
       "\\end{tabular}\n",
       "\\begin{tabular}{lcccccc}\n",
       "                       & \\textbf{coef} & \\textbf{std err} & \\textbf{z} & \\textbf{P$> |$z$|$} & \\textbf{[0.025} & \\textbf{0.975]}  \\\\\n",
       "\\midrule\n",
       "\\textbf{Holiday\\_Flag} &      28.2366  &       46.737     &     0.604  &         0.546        &      -63.366    &      119.839     \\\\\n",
       "\\textbf{Temperature}   &       0.7713  &        1.280     &     0.603  &         0.547        &       -1.738    &        3.280     \\\\\n",
       "\\textbf{Fuel\\_Price}   &      -0.1565  &        7.507     &    -0.021  &         0.983        &      -14.870    &       14.557     \\\\\n",
       "\\textbf{CPI}           &       2.8886  &       13.401     &     0.216  &         0.829        &      -23.377    &       29.154     \\\\\n",
       "\\textbf{Unemployment}  &      -9.6949  &       13.629     &    -0.711  &         0.477        &      -36.407    &       17.018     \\\\\n",
       "\\textbf{ar.L1}         &      -0.5863  &        0.067     &    -8.773  &         0.000        &       -0.717    &       -0.455     \\\\\n",
       "\\textbf{ar.L2}         &      -0.4778  &        0.069     &    -6.972  &         0.000        &       -0.612    &       -0.343     \\\\\n",
       "\\textbf{ar.L3}         &      -0.3323  &        0.065     &    -5.111  &         0.000        &       -0.460    &       -0.205     \\\\\n",
       "\\textbf{ar.S.L52}      &       0.9912  &        0.034     &    28.929  &         0.000        &        0.924    &        1.058     \\\\\n",
       "\\textbf{ma.S.L52}      &      -0.6386  &        0.623     &    -1.025  &         0.305        &       -1.859    &        0.582     \\\\\n",
       "\\textbf{sigma2}        &    3503.1349  &     1688.834     &     2.074  &         0.038        &      193.081    &     6813.189     \\\\\n",
       "\\bottomrule\n",
       "\\end{tabular}\n",
       "\\begin{tabular}{lclc}\n",
       "\\textbf{Ljung-Box (L1) (Q):}     & 0.01 & \\textbf{  Jarque-Bera (JB):  } & 18.97  \\\\\n",
       "\\textbf{Prob(Q):}                & 0.94 & \\textbf{  Prob(JB):          } &  0.00  \\\\\n",
       "\\textbf{Heteroskedasticity (H):} & 6.69 & \\textbf{  Skew:              } &  0.10  \\\\\n",
       "\\textbf{Prob(H) (two-sided):}    & 0.00 & \\textbf{  Kurtosis:          } &  4.95  \\\\\n",
       "\\bottomrule\n",
       "\\end{tabular}\n",
       "%\\caption{SARIMAX Results}\n",
       "\\end{center}\n",
       "\n",
       "Warnings: \\newline\n",
       " [1] Covariance matrix calculated using the outer product of gradients (complex-step)."
      ],
      "text/plain": [
       "<class 'statsmodels.iolib.summary.Summary'>\n",
       "\"\"\"\n",
       "                                      SARIMAX Results                                       \n",
       "============================================================================================\n",
       "Dep. Variable:                         Weekly_Sales   No. Observations:                  120\n",
       "Model:             SARIMAX(3, 1, 0)x(1, 0, [1], 52)   Log Likelihood                -720.011\n",
       "Date:                              Sun, 13 Aug 2023   AIC                           1462.022\n",
       "Time:                                      13:48:52   BIC                           1492.593\n",
       "Sample:                                  02-05-2010   HQIC                          1474.436\n",
       "                                       - 05-18-2012                                         \n",
       "Covariance Type:                                opg                                         \n",
       "================================================================================\n",
       "                   coef    std err          z      P>|z|      [0.025      0.975]\n",
       "--------------------------------------------------------------------------------\n",
       "Holiday_Flag    28.2366     46.737      0.604      0.546     -63.366     119.839\n",
       "Temperature      0.7713      1.280      0.603      0.547      -1.738       3.280\n",
       "Fuel_Price      -0.1565      7.507     -0.021      0.983     -14.870      14.557\n",
       "CPI              2.8886     13.401      0.216      0.829     -23.377      29.154\n",
       "Unemployment    -9.6949     13.629     -0.711      0.477     -36.407      17.018\n",
       "ar.L1           -0.5863      0.067     -8.773      0.000      -0.717      -0.455\n",
       "ar.L2           -0.4778      0.069     -6.972      0.000      -0.612      -0.343\n",
       "ar.L3           -0.3323      0.065     -5.111      0.000      -0.460      -0.205\n",
       "ar.S.L52         0.9912      0.034     28.929      0.000       0.924       1.058\n",
       "ma.S.L52        -0.6386      0.623     -1.025      0.305      -1.859       0.582\n",
       "sigma2        3503.1349   1688.834      2.074      0.038     193.081    6813.189\n",
       "===================================================================================\n",
       "Ljung-Box (L1) (Q):                   0.01   Jarque-Bera (JB):                18.97\n",
       "Prob(Q):                              0.94   Prob(JB):                         0.00\n",
       "Heteroskedasticity (H):               6.69   Skew:                             0.10\n",
       "Prob(H) (two-sided):                  0.00   Kurtosis:                         4.95\n",
       "===================================================================================\n",
       "\n",
       "Warnings:\n",
       "[1] Covariance matrix calculated using the outer product of gradients (complex-step).\n",
       "\"\"\""
      ]
     },
     "execution_count": 32,
     "metadata": {},
     "output_type": "execute_result"
    }
   ],
   "source": [
    "#Summary of our fitted model\n",
    "result.summary()"
   ]
  },
  {
   "cell_type": "code",
   "execution_count": 33,
   "id": "9269b2ad",
   "metadata": {},
   "outputs": [
    {
     "data": {
      "text/plain": [
       "<Axes: xlabel='Date'>"
      ]
     },
     "execution_count": 33,
     "metadata": {},
     "output_type": "execute_result"
    },
    {
     "data": {
      "image/png": "[encoded data removed]",
      "text/plain": [
       "<Figure size 640x480 with 1 Axes>"
      ]
     },
     "metadata": {},
     "output_type": "display_data"
    }
   ],
   "source": [
    "# Residuals Plot\n",
    "# AS seen, the residuals are in linear mannered, these residuals can again be trained to fit with the predicted values for-\n",
    "# -getting better accuracy of the predictions. But this is beyond of our considerations in this model.\n",
    "residuals = result.resid\n",
    "residuals.plot()"
   ]
  },
  {
   "cell_type": "code",
   "execution_count": 34,
   "id": "584a729c",
   "metadata": {},
   "outputs": [],
   "source": [
    "# Predicting the results and plotting it with original values\n",
    "yhat=result.predict()"
   ]
  },
  {
   "cell_type": "code",
   "execution_count": 35,
   "id": "bb25116d",
   "metadata": {},
   "outputs": [
    {
     "data": {
      "text/plain": [
       "[<matplotlib.lines.Line2D at 0x1c89ba21b10>]"
      ]
     },
     "execution_count": 35,
     "metadata": {},
     "output_type": "execute_result"
    },
    {
     "data": {
      "image/png": "[encoded data removed]",
      "text/plain": [
       "<Figure size 640x480 with 1 Axes>"
      ]
     },
     "metadata": {},
     "output_type": "display_data"
    }
   ],
   "source": [
    "plt.plot(df2['Weekly_Sales'])\n",
    "plt.plot(yhat, color='red')"
   ]
  },
  {
   "cell_type": "code",
   "execution_count": 36,
   "id": "3da642e6",
   "metadata": {},
   "outputs": [],
   "source": [
    "# Starting index and ending index for predicting the future Sales\n",
    "start=len(train)\n",
    "end=len(train)+len(test)-1"
   ]
  },
  {
   "cell_type": "code",
   "execution_count": 37,
   "id": "43400909",
   "metadata": {},
   "outputs": [
    {
     "name": "stderr",
     "output_type": "stream",
     "text": [
      "C:\\Users\\Supriyo\\anaconda3\\Lib\\site-packages\\statsmodels\\tsa\\statespace\\representation.py:374: FutureWarning: Unknown keyword arguments: dict_keys(['typ']).Passing unknown keyword arguments will raise a TypeError beginning in version 0.15.\n",
      "  warnings.warn(msg, FutureWarning)\n"
     ]
    }
   ],
   "source": [
    "# Predicting Future Sales with our test dataset\n",
    "# Here we multiplied the prediction with 1000 to get the actual values, cause while training the model we had divided it with 1000 \n",
    "predictions=(result.predict(start,end,exog=test[features],typ='levels'))*1000"
   ]
  },
  {
   "cell_type": "code",
   "execution_count": 38,
   "id": "b933dac5",
   "metadata": {},
   "outputs": [
    {
     "data": {
      "text/plain": [
       "2012-05-25    1.550428e+06\n",
       "2012-06-01    1.706015e+06\n",
       "2012-06-08    1.654239e+06\n",
       "2012-06-15    1.635927e+06\n",
       "2012-06-22    1.535711e+06\n",
       "2012-06-29    1.602798e+06\n",
       "2012-07-06    1.668157e+06\n",
       "2012-07-13    1.586655e+06\n",
       "2012-07-20    1.529453e+06\n",
       "2012-07-27    1.500154e+06\n",
       "2012-08-03    1.741600e+06\n",
       "2012-08-10    1.649809e+06\n",
       "2012-08-17    1.656679e+06\n",
       "2012-08-24    1.589764e+06\n",
       "2012-08-31    1.677208e+06\n",
       "2012-09-07    1.667289e+06\n",
       "2012-09-14    1.608247e+06\n",
       "2012-09-21    1.502732e+06\n",
       "2012-09-28    1.564798e+06\n",
       "2012-10-05    1.747013e+06\n",
       "2012-10-12    1.647963e+06\n",
       "2012-10-19    1.610191e+06\n",
       "Freq: W-FRI, Name: predicted_mean, dtype: float64"
      ]
     },
     "execution_count": 38,
     "metadata": {},
     "output_type": "execute_result"
    }
   ],
   "source": [
    "predictions"
   ]
  },
  {
   "cell_type": "code",
   "execution_count": 39,
   "id": "1740e4d7",
   "metadata": {
    "scrolled": true
   },
   "outputs": [
    {
     "data": {
      "text/plain": [
       "<Axes: xlabel='Date'>"
      ]
     },
     "execution_count": 39,
     "metadata": {},
     "output_type": "execute_result"
    },
    {
     "data": {
      "image/png": "[encoded data removed]",
      "text/plain": [
       "<Figure size 640x480 with 1 Axes>"
      ]
     },
     "metadata": {},
     "output_type": "display_data"
    }
   ],
   "source": [
    "# Here pretest is the actual test values (Cause we have changed our dataset)\n",
    "pretest['Weekly_Sales'].plot(legend=True)\n",
    "predictions.plot(legend=True)"
   ]
  },
  {
   "cell_type": "code",
   "execution_count": 40,
   "id": "466005dc",
   "metadata": {},
   "outputs": [],
   "source": [
    "from statsmodels.tools.eval_measures import rmse"
   ]
  },
  {
   "cell_type": "code",
   "execution_count": 41,
   "id": "5e277f12",
   "metadata": {},
   "outputs": [
    {
     "data": {
      "text/plain": [
       "72213.77608202075"
      ]
     },
     "execution_count": 41,
     "metadata": {},
     "output_type": "execute_result"
    }
   ],
   "source": [
    "#Error calculation\n",
    "error=rmse(pretest['Weekly_Sales'],predictions)\n",
    "error\n",
    "# Gives Only 4% error"
   ]
  },
  {
   "cell_type": "code",
   "execution_count": 42,
   "id": "f30cbd59",
   "metadata": {},
   "outputs": [
    {
     "data": {
      "text/plain": [
       "1571904.669090909"
      ]
     },
     "execution_count": 42,
     "metadata": {},
     "output_type": "execute_result"
    }
   ],
   "source": [
    "meanx=pretest['Weekly_Sales'].mean()\n",
    "meanx"
   ]
  },
  {
   "cell_type": "code",
   "execution_count": 43,
   "id": "a27843b5",
   "metadata": {},
   "outputs": [
    {
     "data": {
      "text/plain": [
       "4.594030255268894"
      ]
     },
     "execution_count": 43,
     "metadata": {},
     "output_type": "execute_result"
    }
   ],
   "source": [
    "# Percentage error calculations\n",
    "perct=(error/meanx)*100\n",
    "perct"
   ]
  },
  {
   "cell_type": "code",
   "execution_count": 44,
   "id": "9f23f9d3",
   "metadata": {},
   "outputs": [],
   "source": [
    "# Uncertainity in the predictions-Mean prediction and 95% Confidence interval prediction\n",
    "predictions_bootstrap = []\n",
    "for _ in range(100):\n",
    "    features_bootstrap = {}\n",
    "    for feature, value in test[features].items():\n",
    "        features_bootstrap[feature] = train[features].sample(1).iloc[0]\n",
    "    predictions_bootstrap.append(result.predict(n_periods=1, exog=features_bootstrap)*1000)\n",
    "\n",
    "predictions_mean = np.mean(predictions_bootstrap)\n",
    "predictions_conf_int = np.percentile(predictions_bootstrap, [2.5, 97.5])"
   ]
  },
  {
   "cell_type": "code",
   "execution_count": 45,
   "id": "a4fc862e",
   "metadata": {},
   "outputs": [
    {
     "name": "stdout",
     "output_type": "stream",
     "text": [
      "Mean prediction: 1538982.0988766607\n",
      "95% confidence interval: [1383276.34895363 1953877.31953616]\n"
     ]
    }
   ],
   "source": [
    "print('Mean prediction:', predictions_mean)\n",
    "print('95% confidence interval:', predictions_conf_int)"
   ]
  },
  {
   "cell_type": "code",
   "execution_count": null,
   "id": "0e19b190",
   "metadata": {},
   "outputs": [],
   "source": []
  }
 ],
 "metadata": {
  "kernelspec": {
   "display_name": "Python 3 (ipykernel)",
   "language": "python",
   "name": "python3"
  },
  "language_info": {
   "codemirror_mode": {
    "name": "ipython",
    "version": 3
   },
   "file_extension": ".py",
   "mimetype": "text/x-python",
   "name": "python",
   "nbconvert_exporter": "python",
   "pygments_lexer": "ipython3",
   "version": "3.11.3"
  }
 },
 "nbformat": 4,
 "nbformat_minor": 5
}
